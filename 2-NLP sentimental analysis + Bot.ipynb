{
 "cells": [
  {
   "cell_type": "markdown",
   "id": "b620a21e",
   "metadata": {},
   "source": [
    "# Sentiment Analysis"
   ]
  },
  {
   "cell_type": "markdown",
   "id": "84e7d9e3",
   "metadata": {},
   "source": [
    " Add a new column to the dataset with the sentiment tag Positive, Neutral or Negative"
   ]
  },
  {
   "cell_type": "code",
   "execution_count": 3,
   "id": "b719ea30",
   "metadata": {
    "scrolled": true
   },
   "outputs": [
    {
     "name": "stdout",
     "output_type": "stream",
     "text": [
      "                             place_name  \\\n",
      "0                    Restaurant Olijfje   \n",
      "1                    Restaurant Olijfje   \n",
      "2                    Restaurant Olijfje   \n",
      "3                    Restaurant Olijfje   \n",
      "4                    Restaurant Olijfje   \n",
      "..                                  ...   \n",
      "95  Saint Morris Argentinian Restaurant   \n",
      "96  Saint Morris Argentinian Restaurant   \n",
      "97  Saint Morris Argentinian Restaurant   \n",
      "98  Saint Morris Argentinian Restaurant   \n",
      "99  Saint Morris Argentinian Restaurant   \n",
      "\n",
      "                                    formatted_address  phone_number  \\\n",
      "0   Valkenburgerstraat 223D, 1011 MJ Amsterdam, Ne...  020 330 4444   \n",
      "1   Valkenburgerstraat 223D, 1011 MJ Amsterdam, Ne...  020 330 4444   \n",
      "2   Valkenburgerstraat 223D, 1011 MJ Amsterdam, Ne...  020 330 4444   \n",
      "3   Valkenburgerstraat 223D, 1011 MJ Amsterdam, Ne...  020 330 4444   \n",
      "4   Valkenburgerstraat 223D, 1011 MJ Amsterdam, Ne...  020 330 4444   \n",
      "..                                                ...           ...   \n",
      "95  Oudezijds Voorburgwal 163, 1012 ET Amsterdam, ...  020 422 7313   \n",
      "96  Oudezijds Voorburgwal 163, 1012 ET Amsterdam, ...  020 422 7313   \n",
      "97  Oudezijds Voorburgwal 163, 1012 ET Amsterdam, ...  020 422 7313   \n",
      "98  Oudezijds Voorburgwal 163, 1012 ET Amsterdam, ...  020 422 7313   \n",
      "99  Oudezijds Voorburgwal 163, 1012 ET Amsterdam, ...  020 422 7313   \n",
      "\n",
      "                              website  \\\n",
      "0   https://www.restaurantolijfje.nl/   \n",
      "1   https://www.restaurantolijfje.nl/   \n",
      "2   https://www.restaurantolijfje.nl/   \n",
      "3   https://www.restaurantolijfje.nl/   \n",
      "4   https://www.restaurantolijfje.nl/   \n",
      "..                                ...   \n",
      "95                                NaN   \n",
      "96                                NaN   \n",
      "97                                NaN   \n",
      "98                                NaN   \n",
      "99                                NaN   \n",
      "\n",
      "                                                about allowsDogs  \\\n",
      "0   Valkenburgerstraat 223D, 1011 MJ Amsterdam, Ne...         No   \n",
      "1   Valkenburgerstraat 223D, 1011 MJ Amsterdam, Ne...         No   \n",
      "2   Valkenburgerstraat 223D, 1011 MJ Amsterdam, Ne...         No   \n",
      "3   Valkenburgerstraat 223D, 1011 MJ Amsterdam, Ne...         No   \n",
      "4   Valkenburgerstraat 223D, 1011 MJ Amsterdam, Ne...         No   \n",
      "..                                                ...        ...   \n",
      "95  Oudezijds Voorburgwal 163, 1012 ET Amsterdam, ...         No   \n",
      "96  Oudezijds Voorburgwal 163, 1012 ET Amsterdam, ...         No   \n",
      "97  Oudezijds Voorburgwal 163, 1012 ET Amsterdam, ...         No   \n",
      "98  Oudezijds Voorburgwal 163, 1012 ET Amsterdam, ...         No   \n",
      "99  Oudezijds Voorburgwal 163, 1012 ET Amsterdam, ...         No   \n",
      "\n",
      "                  author_name  rating  \\\n",
      "0                    E Daniot       5   \n",
      "1          Elmira Gharagozlou       5   \n",
      "2                  Adam James       5   \n",
      "3   Daisyra Rosique Hernandez       5   \n",
      "4                       Ghada       5   \n",
      "..                        ...     ...   \n",
      "95              Franjo Lovric       5   \n",
      "96                 Joe Boctor       5   \n",
      "97              Rubes Terence       5   \n",
      "98               Barbu Lucian       5   \n",
      "99          Mariana Rodriguez       5   \n",
      "\n",
      "                                                 text          date friendly  \\\n",
      "0   Lovely place across Motel One, Amsterdam. The ...   2 weeks ago       No   \n",
      "1   I loved the food. It was so deliciuos. The atm...    a week ago       No   \n",
      "2   Lovely Mediterranean restaurant with great att...   3 weeks ago       No   \n",
      "3   Had an excellent experience. Fabulous service ...   2 weeks ago      Yes   \n",
      "4   Lovely Mediterranean restaurant close to Amste...  5 months ago      Yes   \n",
      "..                                                ...           ...      ...   \n",
      "95  It is great to find such great restaurants whe...    a week ago      Yes   \n",
      "96  Amazing quality and price and quantity.  The m...   a month ago      Yes   \n",
      "97  Amazing service. Food was almost perfect - wou...   4 weeks ago       No   \n",
      "98  The food was good but i asked for a medium sta...  5 months ago       No   \n",
      "99  Nice cozy place. Staff were super friendly. Th...   a month ago      Yes   \n",
      "\n",
      "   sentiment  \n",
      "0   Positive  \n",
      "1   Positive  \n",
      "2   Positive  \n",
      "3   Positive  \n",
      "4   Positive  \n",
      "..       ...  \n",
      "95  Positive  \n",
      "96  Positive  \n",
      "97  Positive  \n",
      "98  Positive  \n",
      "99  Positive  \n",
      "\n",
      "[100 rows x 12 columns]\n"
     ]
    }
   ],
   "source": [
    "import pandas as pd\n",
    "from textblob import TextBlob\n",
    "\n",
    "# Read the updated CSV file into a DataFrame\n",
    "merged_df = pd.read_csv('restaurants_reviews_details_friendly.csv')\n",
    "\n",
    "# Function to perform sentiment analysis using TextBlob\n",
    "def analyze_sentiment(text):\n",
    "    analysis = TextBlob(str(text))\n",
    "    # Classify the polarity of the review\n",
    "    return 'Positive' if analysis.sentiment.polarity > 0 else 'Negative' if analysis.sentiment.polarity < 0 else 'Neutral'\n",
    "\n",
    "# Add a new column 'sentiment' with the result of sentiment analysis\n",
    "merged_df['sentiment'] = merged_df['text'].apply(analyze_sentiment)\n",
    "\n",
    "# Display the DataFrame with the sentiment column\n",
    "print(merged_df)\n",
    "\n",
    "# Save the DataFrame with the sentiment column to a new CSV file\n",
    "merged_df.to_csv('sentiment_analysis_results.csv', index=False)\n"
   ]
  },
  {
   "cell_type": "code",
   "execution_count": 5,
   "id": "a25b5ab9",
   "metadata": {},
   "outputs": [
    {
     "name": "stdout",
     "output_type": "stream",
     "text": [
      "sentiment\n",
      "Positive    97\n",
      "Negative     3\n",
      "Name: count, dtype: int64\n"
     ]
    }
   ],
   "source": [
    "# Count the occurrences of each sentiment\n",
    "sentiment_counts = merged_df['sentiment'].value_counts()\n",
    "\n",
    "# Display the counts\n",
    "print(sentiment_counts)"
   ]
  },
  {
   "cell_type": "code",
   "execution_count": 6,
   "id": "b35698ef",
   "metadata": {},
   "outputs": [
    {
     "data": {
      "image/png": "[encoded data removed]",
      "text/plain": [
       "<Figure size 640x480 with 1 Axes>"
      ]
     },
     "metadata": {},
     "output_type": "display_data"
    }
   ],
   "source": [
    "import matplotlib.pyplot as plt\n",
    "\n",
    "# Plot the counts\n",
    "sentiment_counts.plot(kind='bar', color=['green', 'red', 'grey'])\n",
    "plt.title('Sentiment Analysis Results')\n",
    "plt.xlabel('Sentiment')\n",
    "plt.ylabel('Count')\n",
    "plt.show()\n"
   ]
  },
  {
   "cell_type": "code",
   "execution_count": 7,
   "id": "0ff97456",
   "metadata": {},
   "outputs": [
    {
     "name": "stderr",
     "output_type": "stream",
     "text": [
      "[nltk_data] Downloading package punkt to /Users/davega/nltk_data...\n",
      "[nltk_data]   Unzipping tokenizers/punkt.zip.\n",
      "[nltk_data] Downloading package stopwords to\n",
      "[nltk_data]     /Users/davega/nltk_data...\n",
      "[nltk_data]   Unzipping corpora/stopwords.zip.\n",
      "[nltk_data] Downloading package wordnet to /Users/davega/nltk_data...\n"
     ]
    },
    {
     "name": "stdout",
     "output_type": "stream",
     "text": [
      "(0, '0.014*\"restaurant\" + 0.014*\"great\" + 0.013*\"service\" + 0.011*\"place\" + 0.010*\"nice\"')\n",
      "(1, '0.025*\"good\" + 0.025*\"food\" + 0.013*\"nice\" + 0.013*\"service\" + 0.011*\"restaurant\"')\n",
      "(2, '0.014*\"food\" + 0.010*\"good\" + 0.008*\"great\" + 0.007*\"also\" + 0.007*\"nice\"')\n"
     ]
    }
   ],
   "source": [
    "import pandas as pd\n",
    "from gensim import corpora, models\n",
    "from nltk.tokenize import word_tokenize\n",
    "from nltk.corpus import stopwords\n",
    "from nltk.stem import WordNetLemmatizer\n",
    "import string\n",
    "\n",
    "# Download NLTK resources\n",
    "import nltk\n",
    "nltk.download('punkt')\n",
    "nltk.download('stopwords')\n",
    "nltk.download('wordnet')\n",
    "\n",
    "# Read the updated CSV file into a DataFrame\n",
    "merged_df = pd.read_csv('sentiment_analysis_results.csv')\n",
    "\n",
    "# Preprocess the text data\n",
    "stop_words = set(stopwords.words('english'))\n",
    "\n",
    "def preprocess_text(text):\n",
    "    # Tokenize\n",
    "    tokens = word_tokenize(str(text).lower())\n",
    "    # Remove punctuation and stop words\n",
    "    tokens = [word for word in tokens if word.isalpha() and word not in stop_words]\n",
    "    # Lemmatize\n",
    "    lemmatizer = WordNetLemmatizer()\n",
    "    tokens = [lemmatizer.lemmatize(word) for word in tokens]\n",
    "    return tokens\n",
    "\n",
    "# Apply preprocessing to the \"text\" column\n",
    "merged_df['preprocessed_text'] = merged_df['text'].apply(preprocess_text)\n",
    "\n",
    "# Create a dictionary and corpus\n",
    "dictionary = corpora.Dictionary(merged_df['preprocessed_text'])\n",
    "corpus = [dictionary.doc2bow(text) for text in merged_df['preprocessed_text']]\n",
    "\n",
    "# Build the LDA model\n",
    "lda_model = models.LdaModel(corpus, num_topics=3, id2word=dictionary, passes=15, random_state=42)\n",
    "\n",
    "# Display the topics and their associated words\n",
    "topics = lda_model.print_topics(num_words=5)\n",
    "for topic in topics:\n",
    "    print(topic)\n"
   ]
  },
  {
   "cell_type": "markdown",
   "id": "3e70a9a7",
   "metadata": {},
   "source": [
    "# iterate each comment from \"text\" column to correspond to one of the following 4 summaries ideas: \n",
    "\n",
    "Nice place\n",
    "Good food\n",
    "Good service\n",
    "Good price"
   ]
  },
  {
   "cell_type": "code",
   "execution_count": 8,
   "id": "c6966f84",
   "metadata": {},
   "outputs": [
    {
     "name": "stdout",
     "output_type": "stream",
     "text": [
      "                             place_name  \\\n",
      "0                    Restaurant Olijfje   \n",
      "1                    Restaurant Olijfje   \n",
      "2                    Restaurant Olijfje   \n",
      "3                    Restaurant Olijfje   \n",
      "4                    Restaurant Olijfje   \n",
      "..                                  ...   \n",
      "95  Saint Morris Argentinian Restaurant   \n",
      "96  Saint Morris Argentinian Restaurant   \n",
      "97  Saint Morris Argentinian Restaurant   \n",
      "98  Saint Morris Argentinian Restaurant   \n",
      "99  Saint Morris Argentinian Restaurant   \n",
      "\n",
      "                                    formatted_address  phone_number  \\\n",
      "0   Valkenburgerstraat 223D, 1011 MJ Amsterdam, Ne...  020 330 4444   \n",
      "1   Valkenburgerstraat 223D, 1011 MJ Amsterdam, Ne...  020 330 4444   \n",
      "2   Valkenburgerstraat 223D, 1011 MJ Amsterdam, Ne...  020 330 4444   \n",
      "3   Valkenburgerstraat 223D, 1011 MJ Amsterdam, Ne...  020 330 4444   \n",
      "4   Valkenburgerstraat 223D, 1011 MJ Amsterdam, Ne...  020 330 4444   \n",
      "..                                                ...           ...   \n",
      "95  Oudezijds Voorburgwal 163, 1012 ET Amsterdam, ...  020 422 7313   \n",
      "96  Oudezijds Voorburgwal 163, 1012 ET Amsterdam, ...  020 422 7313   \n",
      "97  Oudezijds Voorburgwal 163, 1012 ET Amsterdam, ...  020 422 7313   \n",
      "98  Oudezijds Voorburgwal 163, 1012 ET Amsterdam, ...  020 422 7313   \n",
      "99  Oudezijds Voorburgwal 163, 1012 ET Amsterdam, ...  020 422 7313   \n",
      "\n",
      "                              website  \\\n",
      "0   https://www.restaurantolijfje.nl/   \n",
      "1   https://www.restaurantolijfje.nl/   \n",
      "2   https://www.restaurantolijfje.nl/   \n",
      "3   https://www.restaurantolijfje.nl/   \n",
      "4   https://www.restaurantolijfje.nl/   \n",
      "..                                ...   \n",
      "95                                NaN   \n",
      "96                                NaN   \n",
      "97                                NaN   \n",
      "98                                NaN   \n",
      "99                                NaN   \n",
      "\n",
      "                                                about allowsDogs  \\\n",
      "0   Valkenburgerstraat 223D, 1011 MJ Amsterdam, Ne...         No   \n",
      "1   Valkenburgerstraat 223D, 1011 MJ Amsterdam, Ne...         No   \n",
      "2   Valkenburgerstraat 223D, 1011 MJ Amsterdam, Ne...         No   \n",
      "3   Valkenburgerstraat 223D, 1011 MJ Amsterdam, Ne...         No   \n",
      "4   Valkenburgerstraat 223D, 1011 MJ Amsterdam, Ne...         No   \n",
      "..                                                ...        ...   \n",
      "95  Oudezijds Voorburgwal 163, 1012 ET Amsterdam, ...         No   \n",
      "96  Oudezijds Voorburgwal 163, 1012 ET Amsterdam, ...         No   \n",
      "97  Oudezijds Voorburgwal 163, 1012 ET Amsterdam, ...         No   \n",
      "98  Oudezijds Voorburgwal 163, 1012 ET Amsterdam, ...         No   \n",
      "99  Oudezijds Voorburgwal 163, 1012 ET Amsterdam, ...         No   \n",
      "\n",
      "                  author_name  rating  \\\n",
      "0                    E Daniot       5   \n",
      "1          Elmira Gharagozlou       5   \n",
      "2                  Adam James       5   \n",
      "3   Daisyra Rosique Hernandez       5   \n",
      "4                       Ghada       5   \n",
      "..                        ...     ...   \n",
      "95              Franjo Lovric       5   \n",
      "96                 Joe Boctor       5   \n",
      "97              Rubes Terence       5   \n",
      "98               Barbu Lucian       5   \n",
      "99          Mariana Rodriguez       5   \n",
      "\n",
      "                                                 text          date friendly  \\\n",
      "0   Lovely place across Motel One, Amsterdam. The ...   2 weeks ago       No   \n",
      "1   I loved the food. It was so deliciuos. The atm...    a week ago       No   \n",
      "2   Lovely Mediterranean restaurant with great att...   3 weeks ago       No   \n",
      "3   Had an excellent experience. Fabulous service ...   2 weeks ago      Yes   \n",
      "4   Lovely Mediterranean restaurant close to Amste...  5 months ago      Yes   \n",
      "..                                                ...           ...      ...   \n",
      "95  It is great to find such great restaurants whe...    a week ago      Yes   \n",
      "96  Amazing quality and price and quantity.  The m...   a month ago      Yes   \n",
      "97  Amazing service. Food was almost perfect - wou...   4 weeks ago       No   \n",
      "98  The food was good but i asked for a medium sta...  5 months ago       No   \n",
      "99  Nice cozy place. Staff were super friendly. Th...   a month ago      Yes   \n",
      "\n",
      "   sentiment             summary_idea  \n",
      "0   Positive    Positive - Nice place  \n",
      "1   Positive    Positive - Nice place  \n",
      "2   Positive    Positive - Nice place  \n",
      "3   Positive    Positive - Nice place  \n",
      "4   Positive    Positive - Nice place  \n",
      "..       ...                      ...  \n",
      "95  Positive         Positive - Other  \n",
      "96  Positive  Positive - Good service  \n",
      "97  Positive    Positive - Good price  \n",
      "98  Positive    Positive - Nice place  \n",
      "99  Positive    Positive - Nice place  \n",
      "\n",
      "[100 rows x 13 columns]\n"
     ]
    }
   ],
   "source": [
    "import pandas as pd\n",
    "from textblob import TextBlob\n",
    "\n",
    "# Read the updated CSV file into a DataFrame\n",
    "merged_df = pd.read_csv('sentiment_analysis_results.csv')\n",
    "\n",
    "# Function to assign a summary idea based on sentiment and keywords\n",
    "def assign_summary_idea(text):\n",
    "    analysis = TextBlob(str(text))\n",
    "    # Classify the polarity of the review\n",
    "    sentiment = 'Positive' if analysis.sentiment.polarity > 0 else 'Negative' if analysis.sentiment.polarity < 0 else 'Neutral'\n",
    "\n",
    "    # Check for keywords to assign a summary idea\n",
    "    keywords = {\n",
    "        'Nice place': ['nice', 'beautiful', 'lovely', 'charming'],\n",
    "        'Good food': ['good food', 'delicious', 'tasty', 'yummy'],\n",
    "        'Good service': ['good service', 'excellent service', 'friendly staff', 'helpful staff'],\n",
    "        'Good price': ['good price', 'affordable', 'reasonable prices', 'value for money']\n",
    "    }\n",
    "\n",
    "    for idea, idea_keywords in keywords.items():\n",
    "        if any(keyword in text.lower() for keyword in idea_keywords):\n",
    "            return f'{sentiment} - {idea}'\n",
    "\n",
    "    return f'{sentiment} - Other'\n",
    "\n",
    "# Add a new column 'summary_idea' with the assigned summary idea\n",
    "merged_df['summary_idea'] = merged_df['text'].apply(assign_summary_idea)\n",
    "\n",
    "# Display the updated DataFrame\n",
    "print(merged_df)\n",
    "\n",
    "# Save the updated DataFrame to a new CSV file\n",
    "merged_df.to_csv('summary_ideas_results.csv', index=False)\n"
   ]
  },
  {
   "cell_type": "code",
   "execution_count": 9,
   "id": "c7a0f279",
   "metadata": {},
   "outputs": [
    {
     "name": "stdout",
     "output_type": "stream",
     "text": [
      "summary_idea\n",
      "Positive - Nice place      48\n",
      "Positive - Other           29\n",
      "Positive - Good food       15\n",
      "Positive - Good service     3\n",
      "Negative - Other            3\n",
      "Positive - Good price       2\n",
      "Name: count, dtype: int64\n"
     ]
    }
   ],
   "source": [
    "# Count the occurrences of each summary_idea_counts\n",
    "summary_idea_counts = merged_df['summary_idea'].value_counts()\n",
    "\n",
    "# Display the counts\n",
    "print(summary_idea_counts)"
   ]
  },
  {
   "cell_type": "markdown",
   "id": "92e504ab",
   "metadata": {},
   "source": [
    "# + BOT to see how sentiment analysis works"
   ]
  },
  {
   "cell_type": "markdown",
   "id": "825b4d72",
   "metadata": {},
   "source": [
    "What to do now:\n",
    "\n",
    "Run the script.\n",
    "Enter some text when prompted.\n",
    "The script will analyze the sentiment of the text and assign a mood emoji based on the sentiment.\n",
    "The script will print the assigned emoji and sentiment polarity.\n",
    "You can experiment with different text inputs to see how the sentiment and mood assignment change. If you have any specific questions or if there's something you'd like to modify, feel free to let me know!"
   ]
  },
  {
   "cell_type": "code",
   "execution_count": null,
   "id": "2a6f1135",
   "metadata": {},
   "outputs": [
    {
     "name": "stdout",
     "output_type": "stream",
     "text": [
      "Text:lovely mood\n",
      "😊 0.5\n"
     ]
    }
   ],
   "source": [
    "from textblob import TextBlob\n",
    "from dataclasses import dataclass\n",
    "\n",
    "@dataclass\n",
    "class Mood:\n",
    "    emoji: str\n",
    "    sentiment: float\n",
    "\n",
    "def get_mood(input_text: str, *, threshold: float) -> Mood:\n",
    "    sentiment: float = TextBlob(input_text).sentiment.polarity\n",
    "\n",
    "    if sentiment > threshold:\n",
    "        return Mood('😊', sentiment)\n",
    "    elif sentiment < -threshold:\n",
    "        return Mood('😠', sentiment)\n",
    "    else:\n",
    "        return Mood('😐', sentiment)\n",
    "\n",
    "if __name__ == '__main__':\n",
    "    while True:\n",
    "        text: str = input('Text:')\n",
    "        mood: Mood = get_mood(text, threshold=0.3)\n",
    "        print(f'{mood.emoji} {mood.sentiment}')\n"
   ]
  }
 ],
 "metadata": {
  "kernelspec": {
   "display_name": "Python 3 (ipykernel)",
   "language": "python",
   "name": "python3"
  },
  "language_info": {
   "codemirror_mode": {
    "name": "ipython",
    "version": 3
   },
   "file_extension": ".py",
   "mimetype": "text/x-python",
   "name": "python",
   "nbconvert_exporter": "python",
   "pygments_lexer": "ipython3",
   "version": "3.11.5"
  }
 },
 "nbformat": 4,
 "nbformat_minor": 5
}
